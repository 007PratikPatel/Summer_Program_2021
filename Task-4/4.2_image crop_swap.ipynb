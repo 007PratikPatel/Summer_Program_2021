{
 "cells": [
  {
   "cell_type": "code",
   "execution_count": 1,
   "id": "c61c22c9",
   "metadata": {},
   "outputs": [],
   "source": [
    "import numpy as np\n",
    "import cv2"
   ]
  },
  {
   "cell_type": "code",
   "execution_count": 2,
   "id": "5f3b9dc0",
   "metadata": {},
   "outputs": [],
   "source": [
    "# First Image\n",
    "img1 = cv2.imread(\"img1.jpg\")\n",
    "img1 = cv2.resize(img1,(700,400))\n",
    "cv2.imshow(\"Pic 1\", img1)\n",
    "cv2.waitKey()\n",
    "cv2.destroyAllWindows()"
   ]
  },
  {
   "cell_type": "code",
   "execution_count": 3,
   "id": "c0abf951",
   "metadata": {},
   "outputs": [],
   "source": [
    "# Second Image\n",
    "img2 = cv2.imread(\"img2.jpg\")\n",
    "img2 = cv2.resize(img2,(700,400))\n",
    "cv2.imshow(\"Pic 2\", img2)\n",
    "cv2.waitKey()\n",
    "cv2.destroyAllWindows()"
   ]
  },
  {
   "cell_type": "code",
   "execution_count": 4,
   "id": "cf8db82a",
   "metadata": {},
   "outputs": [],
   "source": [
    "# Cropping Image 1\n",
    "img1_crop = img1[:500,:355]\n",
    "cv2.imshow(\"Pic 1 Cropped\", img1_crop)\n",
    "cv2.waitKey()\n",
    "cv2.destroyAllWindows()"
   ]
  },
  {
   "cell_type": "code",
   "execution_count": 5,
   "id": "3eb18f6e",
   "metadata": {},
   "outputs": [],
   "source": [
    "# Cropping Image 2\n",
    "img2_crop = img2[:500,:355]\n",
    "cv2.imshow(\"Pic 2 Cropped\", img2_crop)\n",
    "cv2.waitKey()\n",
    "cv2.destroyAllWindows()"
   ]
  },
  {
   "cell_type": "code",
   "execution_count": 6,
   "id": "e4e87654",
   "metadata": {},
   "outputs": [],
   "source": [
    "# Making both cropped parts swappable by resizing\n",
    "img1_re = cv2.resize(img1_crop,(img2_crop.shape[1],img2_crop.shape[0]))\n",
    "img2_re = cv2.resize(img2_crop,(img1_crop.shape[1],img1_crop.shape[0]))"
   ]
  },
  {
   "cell_type": "code",
   "execution_count": 7,
   "id": "9d3535ca",
   "metadata": {},
   "outputs": [],
   "source": [
    "#Swapping 2nd Piece in 1st Image\n",
    "img1[:500,:355] = img2_re\n",
    "cv2.imshow(\"New Pic 1\", img1)\n",
    "cv2.waitKey()\n",
    "cv2.destroyAllWindows()"
   ]
  },
  {
   "cell_type": "code",
   "execution_count": 8,
   "id": "864c295c",
   "metadata": {},
   "outputs": [],
   "source": [
    "# Swapping 1st Piece in 2nd Image\n",
    "img2[:500,:355] = img1_re\n",
    "cv2.imshow(\"New Pic 2\", img2)\n",
    "cv2.waitKey()\n",
    "cv2.destroyAllWindows()"
   ]
  },
  {
   "cell_type": "code",
   "execution_count": 9,
   "id": "68f8b5ba",
   "metadata": {},
   "outputs": [
    {
     "data": {
      "text/plain": [
       "True"
      ]
     },
     "execution_count": 9,
     "metadata": {},
     "output_type": "execute_result"
    }
   ],
   "source": [
    "cv2.imwrite(\"img1_new.jpg\", img1)\n",
    "cv2.imwrite(\"img2_new.jpg\", img2)"
   ]
  }
 ],
 "metadata": {
  "kernelspec": {
   "display_name": "Python 3",
   "language": "python",
   "name": "python3"
  },
  "language_info": {
   "codemirror_mode": {
    "name": "ipython",
    "version": 3
   },
   "file_extension": ".py",
   "mimetype": "text/x-python",
   "name": "python",
   "nbconvert_exporter": "python",
   "pygments_lexer": "ipython3",
   "version": "3.8.8"
  }
 },
 "nbformat": 4,
 "nbformat_minor": 5
}
