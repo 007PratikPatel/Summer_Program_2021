{
 "cells": [
  {
   "cell_type": "code",
   "execution_count": 2,
   "id": "e175c200",
   "metadata": {},
   "outputs": [
    {
     "data": {
      "text/plain": [
       "True"
      ]
     },
     "execution_count": 2,
     "metadata": {},
     "output_type": "execute_result"
    }
   ],
   "source": [
    "import cv2\n",
    "import numpy as np\n",
    "\n",
    "## Creating blank image with numpy array\n",
    "\n",
    "img = np.zeros((400,500,3), dtype=\"uint8\")\n",
    "cv2.line(img, (190, 160), (300, 160), (59, 212, 255), 10)\n",
    "cv2.putText(img, 'Python',(190,150), cv2.FONT_HERSHEY_SIMPLEX,1,(190, 139, 75), 3)\n",
    "cv2.rectangle(img, (180, 120), (310, 180), (0, 255, 0), 10)\n",
    "cv2.circle(img, (250, 300), 100, (255, 255, 0), 10)\n",
    "cv2.putText(img, 'Open cv2',(175,290), cv2.FONT_HERSHEY_SIMPLEX,1,(0, 0, 255 ), 3)\n",
    "cv2.putText(img, 'numpy',(195,333), cv2.FONT_HERSHEY_SIMPLEX,1,(255, 0, 255 ), 3)\n",
    "\n",
    "\n",
    "cv2.imshow(\"image\",img)\n",
    "cv2.waitKey()\n",
    "cv2.destroyAllWindows()\n",
    "\n",
    "# Saving image\n",
    "cv2.imwrite(\"Created_img.png\",img)"
   ]
  },
  {
   "cell_type": "code",
   "execution_count": null,
   "id": "b209a646",
   "metadata": {},
   "outputs": [],
   "source": []
  }
 ],
 "metadata": {
  "kernelspec": {
   "display_name": "Python 3",
   "language": "python",
   "name": "python3"
  },
  "language_info": {
   "codemirror_mode": {
    "name": "ipython",
    "version": 3
   },
   "file_extension": ".py",
   "mimetype": "text/x-python",
   "name": "python",
   "nbconvert_exporter": "python",
   "pygments_lexer": "ipython3",
   "version": "3.8.8"
  }
 },
 "nbformat": 4,
 "nbformat_minor": 5
}
