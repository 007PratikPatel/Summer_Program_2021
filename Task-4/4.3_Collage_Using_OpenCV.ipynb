{
 "cells": [
  {
   "cell_type": "code",
   "execution_count": 1,
   "id": "4a8ab5de",
   "metadata": {},
   "outputs": [],
   "source": [
    "import numpy as np\n",
    "import cv2"
   ]
  },
  {
   "cell_type": "code",
   "execution_count": 2,
   "id": "8fc8db44",
   "metadata": {},
   "outputs": [],
   "source": [
    "batman = cv2.imread(\"batman.jpg\")\n",
    "batman = cv2.resize(batman,(500,333))\n",
    "cv2.imshow(\"Batman\", batman)\n",
    "cv2.waitKey()\n",
    "cv2.destroyAllWindows()"
   ]
  },
  {
   "cell_type": "code",
   "execution_count": 3,
   "id": "b7cc3272",
   "metadata": {},
   "outputs": [],
   "source": [
    "superman = cv2.imread(\"superman.jpg\")\n",
    "superman = cv2.resize(superman,(500,333))\n",
    "cv2.imshow(\"Superman\", superman)\n",
    "cv2.waitKey()\n",
    "cv2.destroyAllWindows()"
   ]
  },
  {
   "cell_type": "code",
   "execution_count": 4,
   "id": "6c56e099",
   "metadata": {},
   "outputs": [],
   "source": [
    "myCol1 = np.vstack((batman,superman))\n",
    "cv2.imshow(\"Batman vs Superman\", myCol1)\n",
    "cv2.waitKey()\n",
    "cv2.destroyAllWindows()"
   ]
  },
  {
   "cell_type": "code",
   "execution_count": 5,
   "id": "e0886d6f",
   "metadata": {},
   "outputs": [],
   "source": [
    "myCol2 = np.hstack((batman,superman))\n",
    "cv2.imshow(\"Batman vs Superman\", myCol2)\n",
    "cv2.waitKey()\n",
    "cv2.destroyAllWindows()"
   ]
  },
  {
   "cell_type": "code",
   "execution_count": 6,
   "id": "ada665e9",
   "metadata": {},
   "outputs": [
    {
     "data": {
      "text/plain": [
       "True"
      ]
     },
     "execution_count": 6,
     "metadata": {},
     "output_type": "execute_result"
    }
   ],
   "source": [
    "cv2.imwrite(\"Batman vs Superman_vertical.jpg\", myCol1)\n",
    "cv2.imwrite(\"Batman vs Superman_horizontal.jpg\", myCol2)"
   ]
  }
 ],
 "metadata": {
  "kernelspec": {
   "display_name": "Python 3",
   "language": "python",
   "name": "python3"
  },
  "language_info": {
   "codemirror_mode": {
    "name": "ipython",
    "version": 3
   },
   "file_extension": ".py",
   "mimetype": "text/x-python",
   "name": "python",
   "nbconvert_exporter": "python",
   "pygments_lexer": "ipython3",
   "version": "3.8.8"
  }
 },
 "nbformat": 4,
 "nbformat_minor": 5
}
